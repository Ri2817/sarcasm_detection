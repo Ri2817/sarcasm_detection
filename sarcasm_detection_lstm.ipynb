{
  "nbformat": 4,
  "nbformat_minor": 0,
  "metadata": {
    "colab": {
      "provenance": []
    },
    "kernelspec": {
      "name": "python3",
      "display_name": "Python 3"
    },
    "language_info": {
      "name": "python"
    }
  },
  "cells": [
    {
      "cell_type": "code",
      "execution_count": 1,
      "metadata": {
        "colab": {
          "base_uri": "https://localhost:8080/"
        },
        "id": "Kq_YH-H0-OAW",
        "outputId": "22b475b1-a4b3-48bb-c6c2-decc9f03637e"
      },
      "outputs": [
        {
          "output_type": "stream",
          "name": "stdout",
          "text": [
            "Requirement already satisfied: tensorflow in /usr/local/lib/python3.10/dist-packages (2.17.1)\n",
            "Requirement already satisfied: absl-py>=1.0.0 in /usr/local/lib/python3.10/dist-packages (from tensorflow) (1.4.0)\n",
            "Requirement already satisfied: astunparse>=1.6.0 in /usr/local/lib/python3.10/dist-packages (from tensorflow) (1.6.3)\n",
            "Requirement already satisfied: flatbuffers>=24.3.25 in /usr/local/lib/python3.10/dist-packages (from tensorflow) (24.3.25)\n",
            "Requirement already satisfied: gast!=0.5.0,!=0.5.1,!=0.5.2,>=0.2.1 in /usr/local/lib/python3.10/dist-packages (from tensorflow) (0.6.0)\n",
            "Requirement already satisfied: google-pasta>=0.1.1 in /usr/local/lib/python3.10/dist-packages (from tensorflow) (0.2.0)\n",
            "Requirement already satisfied: h5py>=3.10.0 in /usr/local/lib/python3.10/dist-packages (from tensorflow) (3.12.1)\n",
            "Requirement already satisfied: libclang>=13.0.0 in /usr/local/lib/python3.10/dist-packages (from tensorflow) (18.1.1)\n",
            "Requirement already satisfied: ml-dtypes<0.5.0,>=0.3.1 in /usr/local/lib/python3.10/dist-packages (from tensorflow) (0.4.1)\n",
            "Requirement already satisfied: opt-einsum>=2.3.2 in /usr/local/lib/python3.10/dist-packages (from tensorflow) (3.4.0)\n",
            "Requirement already satisfied: packaging in /usr/local/lib/python3.10/dist-packages (from tensorflow) (24.2)\n",
            "Requirement already satisfied: protobuf!=4.21.0,!=4.21.1,!=4.21.2,!=4.21.3,!=4.21.4,!=4.21.5,<5.0.0dev,>=3.20.3 in /usr/local/lib/python3.10/dist-packages (from tensorflow) (4.25.5)\n",
            "Requirement already satisfied: requests<3,>=2.21.0 in /usr/local/lib/python3.10/dist-packages (from tensorflow) (2.32.3)\n",
            "Requirement already satisfied: setuptools in /usr/local/lib/python3.10/dist-packages (from tensorflow) (75.1.0)\n",
            "Requirement already satisfied: six>=1.12.0 in /usr/local/lib/python3.10/dist-packages (from tensorflow) (1.16.0)\n",
            "Requirement already satisfied: termcolor>=1.1.0 in /usr/local/lib/python3.10/dist-packages (from tensorflow) (2.5.0)\n",
            "Requirement already satisfied: typing-extensions>=3.6.6 in /usr/local/lib/python3.10/dist-packages (from tensorflow) (4.12.2)\n",
            "Requirement already satisfied: wrapt>=1.11.0 in /usr/local/lib/python3.10/dist-packages (from tensorflow) (1.17.0)\n",
            "Requirement already satisfied: grpcio<2.0,>=1.24.3 in /usr/local/lib/python3.10/dist-packages (from tensorflow) (1.68.1)\n",
            "Requirement already satisfied: tensorboard<2.18,>=2.17 in /usr/local/lib/python3.10/dist-packages (from tensorflow) (2.17.1)\n",
            "Requirement already satisfied: keras>=3.2.0 in /usr/local/lib/python3.10/dist-packages (from tensorflow) (3.5.0)\n",
            "Requirement already satisfied: tensorflow-io-gcs-filesystem>=0.23.1 in /usr/local/lib/python3.10/dist-packages (from tensorflow) (0.37.1)\n",
            "Requirement already satisfied: numpy<2.0.0,>=1.23.5 in /usr/local/lib/python3.10/dist-packages (from tensorflow) (1.26.4)\n",
            "Requirement already satisfied: wheel<1.0,>=0.23.0 in /usr/local/lib/python3.10/dist-packages (from astunparse>=1.6.0->tensorflow) (0.45.1)\n",
            "Requirement already satisfied: rich in /usr/local/lib/python3.10/dist-packages (from keras>=3.2.0->tensorflow) (13.9.4)\n",
            "Requirement already satisfied: namex in /usr/local/lib/python3.10/dist-packages (from keras>=3.2.0->tensorflow) (0.0.8)\n",
            "Requirement already satisfied: optree in /usr/local/lib/python3.10/dist-packages (from keras>=3.2.0->tensorflow) (0.13.1)\n",
            "Requirement already satisfied: charset-normalizer<4,>=2 in /usr/local/lib/python3.10/dist-packages (from requests<3,>=2.21.0->tensorflow) (3.4.0)\n",
            "Requirement already satisfied: idna<4,>=2.5 in /usr/local/lib/python3.10/dist-packages (from requests<3,>=2.21.0->tensorflow) (3.10)\n",
            "Requirement already satisfied: urllib3<3,>=1.21.1 in /usr/local/lib/python3.10/dist-packages (from requests<3,>=2.21.0->tensorflow) (2.2.3)\n",
            "Requirement already satisfied: certifi>=2017.4.17 in /usr/local/lib/python3.10/dist-packages (from requests<3,>=2.21.0->tensorflow) (2024.8.30)\n",
            "Requirement already satisfied: markdown>=2.6.8 in /usr/local/lib/python3.10/dist-packages (from tensorboard<2.18,>=2.17->tensorflow) (3.7)\n",
            "Requirement already satisfied: tensorboard-data-server<0.8.0,>=0.7.0 in /usr/local/lib/python3.10/dist-packages (from tensorboard<2.18,>=2.17->tensorflow) (0.7.2)\n",
            "Requirement already satisfied: werkzeug>=1.0.1 in /usr/local/lib/python3.10/dist-packages (from tensorboard<2.18,>=2.17->tensorflow) (3.1.3)\n",
            "Requirement already satisfied: MarkupSafe>=2.1.1 in /usr/local/lib/python3.10/dist-packages (from werkzeug>=1.0.1->tensorboard<2.18,>=2.17->tensorflow) (3.0.2)\n",
            "Requirement already satisfied: markdown-it-py>=2.2.0 in /usr/local/lib/python3.10/dist-packages (from rich->keras>=3.2.0->tensorflow) (3.0.0)\n",
            "Requirement already satisfied: pygments<3.0.0,>=2.13.0 in /usr/local/lib/python3.10/dist-packages (from rich->keras>=3.2.0->tensorflow) (2.18.0)\n",
            "Requirement already satisfied: mdurl~=0.1 in /usr/local/lib/python3.10/dist-packages (from markdown-it-py>=2.2.0->rich->keras>=3.2.0->tensorflow) (0.1.2)\n",
            "Requirement already satisfied: nltk in /usr/local/lib/python3.10/dist-packages (3.9.1)\n",
            "Requirement already satisfied: click in /usr/local/lib/python3.10/dist-packages (from nltk) (8.1.7)\n",
            "Requirement already satisfied: joblib in /usr/local/lib/python3.10/dist-packages (from nltk) (1.4.2)\n",
            "Requirement already satisfied: regex>=2021.8.3 in /usr/local/lib/python3.10/dist-packages (from nltk) (2024.9.11)\n",
            "Requirement already satisfied: tqdm in /usr/local/lib/python3.10/dist-packages (from nltk) (4.66.6)\n"
          ]
        }
      ],
      "source": [
        "!pip install tensorflow\n",
        "!pip install nltk"
      ]
    },
    {
      "cell_type": "code",
      "source": [
        "import numpy as np\n",
        "import pandas as pd\n",
        "import tensorflow as tf\n",
        "from tensorflow.keras.models import Sequential\n",
        "from tensorflow.keras.layers import LSTM, Embedding, Dense, Dropout\n",
        "from tensorflow.keras.preprocessing.sequence import pad_sequences\n",
        "from tensorflow.keras.preprocessing.text import Tokenizer\n",
        "from sklearn.model_selection import train_test_split\n",
        "from sklearn.metrics import classification_report\n",
        "import nltk\n",
        "nltk.download('punkt')"
      ],
      "metadata": {
        "colab": {
          "base_uri": "https://localhost:8080/"
        },
        "id": "zB39wEM8-sdm",
        "outputId": "7fed7050-ef38-47e2-f407-8d782486cdc9"
      },
      "execution_count": 2,
      "outputs": [
        {
          "output_type": "stream",
          "name": "stderr",
          "text": [
            "[nltk_data] Downloading package punkt to /root/nltk_data...\n",
            "[nltk_data]   Unzipping tokenizers/punkt.zip.\n"
          ]
        },
        {
          "output_type": "execute_result",
          "data": {
            "text/plain": [
              "True"
            ]
          },
          "metadata": {},
          "execution_count": 2
        }
      ]
    },
    {
      "cell_type": "code",
      "source": [
        "from google.colab import files\n",
        "uploaded = files.upload()"
      ],
      "metadata": {
        "colab": {
          "base_uri": "https://localhost:8080/",
          "height": 74
        },
        "id": "4rkpy37c_VPW",
        "outputId": "d669d0c5-8ee2-43a3-c25e-f508d15d2bda"
      },
      "execution_count": 3,
      "outputs": [
        {
          "output_type": "display_data",
          "data": {
            "text/plain": [
              "<IPython.core.display.HTML object>"
            ],
            "text/html": [
              "\n",
              "     <input type=\"file\" id=\"files-db645eb9-068d-4dd5-a37f-794a5e8f336f\" name=\"files[]\" multiple disabled\n",
              "        style=\"border:none\" />\n",
              "     <output id=\"result-db645eb9-068d-4dd5-a37f-794a5e8f336f\">\n",
              "      Upload widget is only available when the cell has been executed in the\n",
              "      current browser session. Please rerun this cell to enable.\n",
              "      </output>\n",
              "      <script>// Copyright 2017 Google LLC\n",
              "//\n",
              "// Licensed under the Apache License, Version 2.0 (the \"License\");\n",
              "// you may not use this file except in compliance with the License.\n",
              "// You may obtain a copy of the License at\n",
              "//\n",
              "//      http://www.apache.org/licenses/LICENSE-2.0\n",
              "//\n",
              "// Unless required by applicable law or agreed to in writing, software\n",
              "// distributed under the License is distributed on an \"AS IS\" BASIS,\n",
              "// WITHOUT WARRANTIES OR CONDITIONS OF ANY KIND, either express or implied.\n",
              "// See the License for the specific language governing permissions and\n",
              "// limitations under the License.\n",
              "\n",
              "/**\n",
              " * @fileoverview Helpers for google.colab Python module.\n",
              " */\n",
              "(function(scope) {\n",
              "function span(text, styleAttributes = {}) {\n",
              "  const element = document.createElement('span');\n",
              "  element.textContent = text;\n",
              "  for (const key of Object.keys(styleAttributes)) {\n",
              "    element.style[key] = styleAttributes[key];\n",
              "  }\n",
              "  return element;\n",
              "}\n",
              "\n",
              "// Max number of bytes which will be uploaded at a time.\n",
              "const MAX_PAYLOAD_SIZE = 100 * 1024;\n",
              "\n",
              "function _uploadFiles(inputId, outputId) {\n",
              "  const steps = uploadFilesStep(inputId, outputId);\n",
              "  const outputElement = document.getElementById(outputId);\n",
              "  // Cache steps on the outputElement to make it available for the next call\n",
              "  // to uploadFilesContinue from Python.\n",
              "  outputElement.steps = steps;\n",
              "\n",
              "  return _uploadFilesContinue(outputId);\n",
              "}\n",
              "\n",
              "// This is roughly an async generator (not supported in the browser yet),\n",
              "// where there are multiple asynchronous steps and the Python side is going\n",
              "// to poll for completion of each step.\n",
              "// This uses a Promise to block the python side on completion of each step,\n",
              "// then passes the result of the previous step as the input to the next step.\n",
              "function _uploadFilesContinue(outputId) {\n",
              "  const outputElement = document.getElementById(outputId);\n",
              "  const steps = outputElement.steps;\n",
              "\n",
              "  const next = steps.next(outputElement.lastPromiseValue);\n",
              "  return Promise.resolve(next.value.promise).then((value) => {\n",
              "    // Cache the last promise value to make it available to the next\n",
              "    // step of the generator.\n",
              "    outputElement.lastPromiseValue = value;\n",
              "    return next.value.response;\n",
              "  });\n",
              "}\n",
              "\n",
              "/**\n",
              " * Generator function which is called between each async step of the upload\n",
              " * process.\n",
              " * @param {string} inputId Element ID of the input file picker element.\n",
              " * @param {string} outputId Element ID of the output display.\n",
              " * @return {!Iterable<!Object>} Iterable of next steps.\n",
              " */\n",
              "function* uploadFilesStep(inputId, outputId) {\n",
              "  const inputElement = document.getElementById(inputId);\n",
              "  inputElement.disabled = false;\n",
              "\n",
              "  const outputElement = document.getElementById(outputId);\n",
              "  outputElement.innerHTML = '';\n",
              "\n",
              "  const pickedPromise = new Promise((resolve) => {\n",
              "    inputElement.addEventListener('change', (e) => {\n",
              "      resolve(e.target.files);\n",
              "    });\n",
              "  });\n",
              "\n",
              "  const cancel = document.createElement('button');\n",
              "  inputElement.parentElement.appendChild(cancel);\n",
              "  cancel.textContent = 'Cancel upload';\n",
              "  const cancelPromise = new Promise((resolve) => {\n",
              "    cancel.onclick = () => {\n",
              "      resolve(null);\n",
              "    };\n",
              "  });\n",
              "\n",
              "  // Wait for the user to pick the files.\n",
              "  const files = yield {\n",
              "    promise: Promise.race([pickedPromise, cancelPromise]),\n",
              "    response: {\n",
              "      action: 'starting',\n",
              "    }\n",
              "  };\n",
              "\n",
              "  cancel.remove();\n",
              "\n",
              "  // Disable the input element since further picks are not allowed.\n",
              "  inputElement.disabled = true;\n",
              "\n",
              "  if (!files) {\n",
              "    return {\n",
              "      response: {\n",
              "        action: 'complete',\n",
              "      }\n",
              "    };\n",
              "  }\n",
              "\n",
              "  for (const file of files) {\n",
              "    const li = document.createElement('li');\n",
              "    li.append(span(file.name, {fontWeight: 'bold'}));\n",
              "    li.append(span(\n",
              "        `(${file.type || 'n/a'}) - ${file.size} bytes, ` +\n",
              "        `last modified: ${\n",
              "            file.lastModifiedDate ? file.lastModifiedDate.toLocaleDateString() :\n",
              "                                    'n/a'} - `));\n",
              "    const percent = span('0% done');\n",
              "    li.appendChild(percent);\n",
              "\n",
              "    outputElement.appendChild(li);\n",
              "\n",
              "    const fileDataPromise = new Promise((resolve) => {\n",
              "      const reader = new FileReader();\n",
              "      reader.onload = (e) => {\n",
              "        resolve(e.target.result);\n",
              "      };\n",
              "      reader.readAsArrayBuffer(file);\n",
              "    });\n",
              "    // Wait for the data to be ready.\n",
              "    let fileData = yield {\n",
              "      promise: fileDataPromise,\n",
              "      response: {\n",
              "        action: 'continue',\n",
              "      }\n",
              "    };\n",
              "\n",
              "    // Use a chunked sending to avoid message size limits. See b/62115660.\n",
              "    let position = 0;\n",
              "    do {\n",
              "      const length = Math.min(fileData.byteLength - position, MAX_PAYLOAD_SIZE);\n",
              "      const chunk = new Uint8Array(fileData, position, length);\n",
              "      position += length;\n",
              "\n",
              "      const base64 = btoa(String.fromCharCode.apply(null, chunk));\n",
              "      yield {\n",
              "        response: {\n",
              "          action: 'append',\n",
              "          file: file.name,\n",
              "          data: base64,\n",
              "        },\n",
              "      };\n",
              "\n",
              "      let percentDone = fileData.byteLength === 0 ?\n",
              "          100 :\n",
              "          Math.round((position / fileData.byteLength) * 100);\n",
              "      percent.textContent = `${percentDone}% done`;\n",
              "\n",
              "    } while (position < fileData.byteLength);\n",
              "  }\n",
              "\n",
              "  // All done.\n",
              "  yield {\n",
              "    response: {\n",
              "      action: 'complete',\n",
              "    }\n",
              "  };\n",
              "}\n",
              "\n",
              "scope.google = scope.google || {};\n",
              "scope.google.colab = scope.google.colab || {};\n",
              "scope.google.colab._files = {\n",
              "  _uploadFiles,\n",
              "  _uploadFilesContinue,\n",
              "};\n",
              "})(self);\n",
              "</script> "
            ]
          },
          "metadata": {}
        },
        {
          "output_type": "stream",
          "name": "stdout",
          "text": [
            "Saving kaggle (2).json to kaggle (2) (1).json\n"
          ]
        }
      ]
    },
    {
      "cell_type": "code",
      "source": [
        "import os\n",
        "# Make a directory for kaggle.json\n",
        "os.makedirs('/root/.kaggle', exist_ok=True)\n",
        "\n",
        "# Move kaggle.json to the correct location\n",
        "!mv kaggle.json /root/.kaggle/\n",
        "\n",
        "# Change the permissions of the file to make it readable\n",
        "!chmod 600 /root/.kaggle/kaggle.json\n",
        "\n",
        "\n"
      ],
      "metadata": {
        "id": "UUPA5lwp_9f4"
      },
      "execution_count": 11,
      "outputs": []
    },
    {
      "cell_type": "code",
      "source": [
        "!kaggle datasets list\n",
        "\n"
      ],
      "metadata": {
        "colab": {
          "base_uri": "https://localhost:8080/"
        },
        "id": "1rB3Q36HDEFf",
        "outputId": "f3970358-746f-4f8b-e671-7f33a0b714d3"
      },
      "execution_count": 12,
      "outputs": [
        {
          "output_type": "stream",
          "name": "stdout",
          "text": [
            "ref                                                         title                                          size  lastUpdated          downloadCount  voteCount  usabilityRating  \n",
            "----------------------------------------------------------  --------------------------------------------  -----  -------------------  -------------  ---------  ---------------  \n",
            "bhadramohit/customer-shopping-latest-trends-dataset         Customer Shopping (Latest Trends) Dataset      76KB  2024-11-23 15:26:12           8054        148  1.0              \n",
            "malaiarasugraj/global-health-statistics                     Global Health Statistics                       44MB  2024-11-27 10:52:27           2136         29  1.0              \n",
            "mujtabamatin/air-quality-and-pollution-assessment           Air Quality and Pollution Assessment           84KB  2024-12-04 15:29:51           2461         45  1.0              \n",
            "hopesb/student-depression-dataset                           Student Depression Dataset.                   454KB  2024-11-22 17:56:03           4795         71  0.9411765        \n",
            "martinagalasso/global-health-and-development-2012-2021      Global Health and Development (2012-2021)     176KB  2024-11-30 21:34:48            988         26  1.0              \n",
            "bushraqurban/world-education-dataset                        🌍 World Education Dataset 📚                   243KB  2024-11-22 20:05:15           1677         28  1.0              \n",
            "steve1215rogg/student-lifestyle-dataset                     student lifestyle dataset                      22KB  2024-11-11 19:11:28           9508        137  1.0              \n",
            "anirudhchauhan/retail-store-inventory-forecasting-dataset   Retail Store Inventory Forecasting Dataset      2MB  2024-11-24 20:09:48           2079         37  1.0              \n",
            "heidarmirhajisadati/germany-city-rainfall-data              Germany City Rainfall Data                     12KB  2024-12-04 22:20:48            502         22  1.0              \n",
            "fernandogarciah24/top-1000-imdb-dataset                     Top 1000 IMDB dataset                         236KB  2024-11-10 20:32:13           1433         24  0.9411765        \n",
            "steve1215rogg/e-commerce-dataset                            E-Commerce Dataset                             90KB  2024-11-22 22:10:02           2943         48  1.0              \n",
            "ikynahidwin/depression-student-dataset                      Depression Student Dataset                      4KB  2024-11-20 06:42:01           5086         82  1.0              \n",
            "shreyasg23/life-expectancy-averaged-dataset                 Life Expectancy Averaged Dataset               11KB  2024-12-04 10:23:37           1076         27  0.9411765        \n",
            "itzusama/apple-stock-market-data-2020-2024                  Apple Stock Market Data (2020-2024) 🔥          35KB  2024-12-04 09:03:12            814         22  0.88235295       \n",
            "heidarmirhajisadati/regional-cost-of-living-analysis        Regional Cost of Living Analysis               13KB  2024-11-30 22:38:52           1169         66  1.0              \n",
            "ziya07/fever-diagnosis-and-medicine-dataset                 Fever Diagnosis and Medicine Dataset           19KB  2024-12-04 09:46:44            652         22  0.88235295       \n",
            "mohitkumar282/used-car-dataset                              Used Car Dataset                              230KB  2024-11-24 09:14:58           3199         40  1.0              \n",
            "zeeshier/student-information-dataset                        Student Information Dataset                     5KB  2024-11-16 17:20:03           1004         22  0.8235294        \n",
            "ironwolf437/electric-vehicle-population-in-usa              Electric Vehicle Population in USA              6MB  2024-11-30 15:53:33            494         26  1.0              \n",
            "valakhorasani/bank-transaction-dataset-for-fraud-detection  Bank Transaction Dataset for Fraud Detection  102KB  2024-11-04 09:23:49           5009         94  1.0              \n"
          ]
        }
      ]
    },
    {
      "cell_type": "code",
      "source": [
        "!kaggle datasets download -d nikhiljohnk/tweets-with-sarcasm-and-irony\n"
      ],
      "metadata": {
        "colab": {
          "base_uri": "https://localhost:8080/"
        },
        "id": "Cdcdbf6-DRSC",
        "outputId": "6c4ef30e-1bf4-4f38-c224-03c14bcdb2a5"
      },
      "execution_count": 13,
      "outputs": [
        {
          "output_type": "stream",
          "name": "stdout",
          "text": [
            "Dataset URL: https://www.kaggle.com/datasets/nikhiljohnk/tweets-with-sarcasm-and-irony\n",
            "License(s): CC0-1.0\n",
            "Downloading tweets-with-sarcasm-and-irony.zip to /content\n",
            "  0% 0.00/4.27M [00:00<?, ?B/s]\n",
            "100% 4.27M/4.27M [00:00<00:00, 59.8MB/s]\n"
          ]
        }
      ]
    },
    {
      "cell_type": "code",
      "source": [
        "!unzip tweets-with-sarcasm-and-irony.zip -d /content/dataset/\n"
      ],
      "metadata": {
        "colab": {
          "base_uri": "https://localhost:8080/"
        },
        "id": "uRYsvwsfDT1C",
        "outputId": "003d4eb2-88ed-4463-cb5c-aa78716e6878"
      },
      "execution_count": 14,
      "outputs": [
        {
          "output_type": "stream",
          "name": "stdout",
          "text": [
            "Archive:  tweets-with-sarcasm-and-irony.zip\n",
            "  inflating: /content/dataset/test.csv  \n",
            "  inflating: /content/dataset/train.csv  \n"
          ]
        }
      ]
    },
    {
      "cell_type": "code",
      "source": [
        "!ls /content/dataset/\n",
        "\n"
      ],
      "metadata": {
        "colab": {
          "base_uri": "https://localhost:8080/"
        },
        "id": "Dyq5QacGDVLQ",
        "outputId": "fa7fc2fe-383f-4ecc-c649-76d1d2bb9c07"
      },
      "execution_count": 16,
      "outputs": [
        {
          "output_type": "stream",
          "name": "stdout",
          "text": [
            "test.csv  train.csv\n"
          ]
        }
      ]
    },
    {
      "cell_type": "code",
      "source": [
        "import pandas as pd\n",
        "\n",
        "# Load the training and testing datasets\n",
        "train_df = pd.read_csv('/content/dataset/train.csv')\n",
        "test_df = pd.read_csv('/content/dataset/test.csv')\n",
        "\n",
        "# Preview the first few rows of the training and test datasets\n",
        "print(\"Training Data:\")\n",
        "print(train_df.head())\n",
        "\n",
        "print(\"\\nTesting Data:\")\n",
        "print(test_df.head())\n"
      ],
      "metadata": {
        "colab": {
          "base_uri": "https://localhost:8080/"
        },
        "id": "gC_vJxURDlMO",
        "outputId": "832fcdd8-a4d9-44cf-9bcd-2f1e56b77110"
      },
      "execution_count": 17,
      "outputs": [
        {
          "output_type": "stream",
          "name": "stdout",
          "text": [
            "Training Data:\n",
            "                                              tweets       class\n",
            "0  Be aware  dirty step to get money  #staylight ...  figurative\n",
            "1  #sarcasm for #people who don't understand #diy...  figurative\n",
            "2  @IminworkJeremy @medsingle #DailyMail readers ...  figurative\n",
            "3  @wilw Why do I get the feeling you like games?...  figurative\n",
            "4  -@TeacherArthurG @rweingarten You probably jus...  figurative\n",
            "\n",
            "Testing Data:\n",
            "                                              tweets       class\n",
            "0  no one ever predicted this was going to happen...  figurative\n",
            "1  @Stooshie its as closely related as Andrews or...  figurative\n",
            "2  I find it ironic when Vegans say they love foo...  figurative\n",
            "3  Quick rt that throwing money vine I've not see...  figurative\n",
            "4  yep, keep adding me to your #devops lists.... ...  figurative\n"
          ]
        }
      ]
    },
    {
      "cell_type": "code",
      "source": [
        "print(\"Train Data Columns:\", train_df.columns)\n",
        "print(\"Test Data Columns:\", test_df.columns)\n",
        "\n",
        "# Check for missing values\n",
        "print(\"\\nMissing Values in Train Data:\")\n",
        "print(train_df.isnull().sum())\n",
        "\n",
        "print(\"\\nMissing Values in Test Data:\")\n",
        "print(test_df.isnull().sum())\n"
      ],
      "metadata": {
        "colab": {
          "base_uri": "https://localhost:8080/"
        },
        "id": "izxWd9MUDXTs",
        "outputId": "5ee32f07-0107-48c1-92d1-9e9068b1e6b4"
      },
      "execution_count": 18,
      "outputs": [
        {
          "output_type": "stream",
          "name": "stdout",
          "text": [
            "Train Data Columns: Index(['tweets', 'class'], dtype='object')\n",
            "Test Data Columns: Index(['tweets', 'class'], dtype='object')\n",
            "\n",
            "Missing Values in Train Data:\n",
            "tweets    0\n",
            "class     0\n",
            "dtype: int64\n",
            "\n",
            "Missing Values in Test Data:\n",
            "tweets    2\n",
            "class     9\n",
            "dtype: int64\n"
          ]
        }
      ]
    },
    {
      "cell_type": "code",
      "source": [
        "# Fill missing values in 'tweets' with an empty string\n",
        "test_df['tweets'].fillna('', inplace=True)\n",
        "\n",
        "# Drop rows with missing 'class' labels\n",
        "test_df.dropna(subset=['class'], inplace=True)\n",
        "\n",
        "# Verify that missing values are handled\n",
        "print(\"\\nMissing Values in Test Data after handling:\")\n",
        "print(test_df.isnull().sum())\n"
      ],
      "metadata": {
        "colab": {
          "base_uri": "https://localhost:8080/"
        },
        "id": "ZKq4CBl6D_I_",
        "outputId": "b006eaa1-b1dc-4817-a5b5-5df470813e11"
      },
      "execution_count": 19,
      "outputs": [
        {
          "output_type": "stream",
          "name": "stdout",
          "text": [
            "\n",
            "Missing Values in Test Data after handling:\n",
            "tweets    0\n",
            "class     0\n",
            "dtype: int64\n"
          ]
        },
        {
          "output_type": "stream",
          "name": "stderr",
          "text": [
            "<ipython-input-19-ff50232e306d>:2: FutureWarning: A value is trying to be set on a copy of a DataFrame or Series through chained assignment using an inplace method.\n",
            "The behavior will change in pandas 3.0. This inplace method will never work because the intermediate object on which we are setting values always behaves as a copy.\n",
            "\n",
            "For example, when doing 'df[col].method(value, inplace=True)', try using 'df.method({col: value}, inplace=True)' or df[col] = df[col].method(value) instead, to perform the operation inplace on the original object.\n",
            "\n",
            "\n",
            "  test_df['tweets'].fillna('', inplace=True)\n"
          ]
        }
      ]
    },
    {
      "cell_type": "code",
      "source": [
        "import re\n",
        "import nltk\n",
        "from nltk.tokenize import word_tokenize\n",
        "\n",
        "# Ensure you have the NLTK data files\n",
        "nltk.download('punkt')"
      ],
      "metadata": {
        "colab": {
          "base_uri": "https://localhost:8080/"
        },
        "id": "xpgLcaYcEEDj",
        "outputId": "f7796db6-37c1-4355-f94d-18cb3cc08d09"
      },
      "execution_count": 20,
      "outputs": [
        {
          "output_type": "stream",
          "name": "stderr",
          "text": [
            "[nltk_data] Downloading package punkt to /root/nltk_data...\n",
            "[nltk_data]   Package punkt is already up-to-date!\n"
          ]
        },
        {
          "output_type": "execute_result",
          "data": {
            "text/plain": [
              "True"
            ]
          },
          "metadata": {},
          "execution_count": 20
        }
      ]
    },
    {
      "cell_type": "code",
      "source": [
        "def preprocess_text(text):\n",
        "    # Lowercase the text\n",
        "    text = text.lower()\n",
        "    # Remove non-alphabetic characters\n",
        "    text = re.sub(r'[^a-zA-Z\\s]', '', text)\n",
        "    # Tokenize the text\n",
        "    tokens = word_tokenize(text)\n",
        "    return ' '.join(tokens)"
      ],
      "metadata": {
        "id": "H6y1JfiGELHY"
      },
      "execution_count": 21,
      "outputs": []
    },
    {
      "cell_type": "code",
      "source": [
        "import nltk\n",
        "nltk.data.path.append('/content/nltk_data')  # Optional: Set custom path\n",
        "nltk.download('punkt', force=True)  # Force re-download\n",
        "\n"
      ],
      "metadata": {
        "colab": {
          "base_uri": "https://localhost:8080/"
        },
        "id": "lh2hXsQOEiwk",
        "outputId": "e36bf6a8-26ab-448d-d592-59feb6f6ab51"
      },
      "execution_count": 31,
      "outputs": [
        {
          "output_type": "stream",
          "name": "stderr",
          "text": [
            "[nltk_data] Downloading package punkt to /root/nltk_data...\n",
            "[nltk_data]   Unzipping tokenizers/punkt.zip.\n"
          ]
        },
        {
          "output_type": "execute_result",
          "data": {
            "text/plain": [
              "True"
            ]
          },
          "metadata": {},
          "execution_count": 31
        }
      ]
    },
    {
      "cell_type": "code",
      "source": [
        "import nltk\n",
        "print(nltk.data.find('tokenizers/punkt'))\n"
      ],
      "metadata": {
        "colab": {
          "base_uri": "https://localhost:8080/"
        },
        "id": "RE1BjlsWFClz",
        "outputId": "32be27e5-6adf-45a7-ca75-57db2f12c5fb"
      },
      "execution_count": 30,
      "outputs": [
        {
          "output_type": "stream",
          "name": "stdout",
          "text": [
            "/root/nltk_data/tokenizers/punkt\n"
          ]
        }
      ]
    },
    {
      "cell_type": "code",
      "source": [
        "import nltk\n",
        "import shutil\n",
        "\n",
        "# Delete existing punkt data\n",
        "punkt_path = '/root/nltk_data/tokenizers/punkt'\n",
        "shutil.rmtree(punkt_path, ignore_errors=True)\n",
        "\n",
        "# Redownload punkt\n",
        "nltk.download('punkt', download_dir='/root/nltk_data')\n",
        "\n"
      ],
      "metadata": {
        "colab": {
          "base_uri": "https://localhost:8080/"
        },
        "id": "Tlt4U7fFEOBO",
        "outputId": "7010029d-8fa5-4b72-ac57-1684cd4897ee"
      },
      "execution_count": 34,
      "outputs": [
        {
          "output_type": "stream",
          "name": "stderr",
          "text": [
            "[nltk_data] Downloading package punkt to /root/nltk_data...\n",
            "[nltk_data]   Package punkt is already up-to-date!\n"
          ]
        },
        {
          "output_type": "execute_result",
          "data": {
            "text/plain": [
              "True"
            ]
          },
          "metadata": {},
          "execution_count": 34
        }
      ]
    },
    {
      "cell_type": "code",
      "source": [
        "import nltk\n",
        "\n",
        "nltk.data.path.append('/root/nltk_data')\n",
        "nltk.download('punkt', download_dir='/root/nltk_data')"
      ],
      "metadata": {
        "colab": {
          "base_uri": "https://localhost:8080/"
        },
        "id": "Gifab1bYFl-S",
        "outputId": "4745daf8-d0a5-49ea-e37e-e26048d19f11"
      },
      "execution_count": 35,
      "outputs": [
        {
          "output_type": "stream",
          "name": "stderr",
          "text": [
            "[nltk_data] Downloading package punkt to /root/nltk_data...\n",
            "[nltk_data]   Package punkt is already up-to-date!\n"
          ]
        },
        {
          "output_type": "execute_result",
          "data": {
            "text/plain": [
              "True"
            ]
          },
          "metadata": {},
          "execution_count": 35
        }
      ]
    },
    {
      "cell_type": "code",
      "source": [
        "import re\n",
        "\n",
        "def preprocess_text(text):\n",
        "    # Simple regex-based tokenization\n",
        "    tokens = re.findall(r'\\b\\w+\\b', text.lower())\n",
        "    return \" \".join(tokens)\n"
      ],
      "metadata": {
        "id": "kvMaE7EJFpjM"
      },
      "execution_count": 36,
      "outputs": []
    },
    {
      "cell_type": "code",
      "source": [
        "train_df['cleaned_text'] = train_df['tweets'].apply(preprocess_text)\n",
        "test_df['cleaned_text'] = test_df['tweets'].apply(preprocess_text)"
      ],
      "metadata": {
        "id": "LpgbnwlaFy9z"
      },
      "execution_count": 37,
      "outputs": []
    },
    {
      "cell_type": "code",
      "source": [
        "print(\"Processed Training Data:\")\n",
        "print(train_df[['tweets', 'cleaned_text']].head())\n",
        "\n",
        "print(\"Processed Testing Data:\")\n",
        "print(test_df[['tweets', 'cleaned_text']].head())"
      ],
      "metadata": {
        "colab": {
          "base_uri": "https://localhost:8080/"
        },
        "id": "6YNt7uIIF16G",
        "outputId": "6e4b8913-f18a-42d5-a3a4-2e1700157436"
      },
      "execution_count": 39,
      "outputs": [
        {
          "output_type": "stream",
          "name": "stdout",
          "text": [
            "Processed Training Data:\n",
            "                                              tweets  \\\n",
            "0  Be aware  dirty step to get money  #staylight ...   \n",
            "1  #sarcasm for #people who don't understand #diy...   \n",
            "2  @IminworkJeremy @medsingle #DailyMail readers ...   \n",
            "3  @wilw Why do I get the feeling you like games?...   \n",
            "4  -@TeacherArthurG @rweingarten You probably jus...   \n",
            "\n",
            "                                        cleaned_text  \n",
            "0  be aware dirty step to get money staylight sta...  \n",
            "1  sarcasm for people who don t understand diy ar...  \n",
            "2  iminworkjeremy medsingle dailymail readers bei...  \n",
            "3  wilw why do i get the feeling you like games s...  \n",
            "4  teacherarthurg rweingarten you probably just m...  \n",
            "Processed Testing Data:\n",
            "                                              tweets  \\\n",
            "0  no one ever predicted this was going to happen...   \n",
            "1  @Stooshie its as closely related as Andrews or...   \n",
            "2  I find it ironic when Vegans say they love foo...   \n",
            "3  Quick rt that throwing money vine I've not see...   \n",
            "4  yep, keep adding me to your #devops lists.... ...   \n",
            "\n",
            "                                        cleaned_text  \n",
            "0  no one ever predicted this was going to happen...  \n",
            "1  stooshie its as closely related as andrews ori...  \n",
            "2  i find it ironic when vegans say they love foo...  \n",
            "3  quick rt that throwing money vine i ve not see...  \n",
            "4  yep keep adding me to your devops lists justsa...  \n"
          ]
        }
      ]
    },
    {
      "cell_type": "code",
      "source": [
        "from tensorflow.keras.preprocessing.text import Tokenizer\n",
        "from tensorflow.keras.preprocessing.sequence import pad_sequences\n",
        "\n",
        "max_words = 5000\n",
        "max_sequence_length = 100"
      ],
      "metadata": {
        "id": "ubbozCwdF7l4"
      },
      "execution_count": 40,
      "outputs": []
    },
    {
      "cell_type": "code",
      "source": [
        "tokenizer = Tokenizer(num_words=max_words, lower=True, split=' ')\n",
        "tokenizer.fit_on_texts(train_df['cleaned_text'])"
      ],
      "metadata": {
        "id": "GP0Qth6jF_jT"
      },
      "execution_count": 41,
      "outputs": []
    },
    {
      "cell_type": "code",
      "source": [
        "X_train = tokenizer.texts_to_sequences(train_df['cleaned_text'])\n",
        "X_test = tokenizer.texts_to_sequences(test_df['cleaned_text'])"
      ],
      "metadata": {
        "id": "aHgHG4Z5GC8T"
      },
      "execution_count": 42,
      "outputs": []
    },
    {
      "cell_type": "code",
      "source": [
        "X_train = pad_sequences(X_train, maxlen=max_sequence_length)\n",
        "X_test = pad_sequences(X_test, maxlen=max_sequence_length)"
      ],
      "metadata": {
        "id": "3BeMrk37GGxg"
      },
      "execution_count": 43,
      "outputs": []
    },
    {
      "cell_type": "code",
      "source": [
        "y_train = train_df['class']\n",
        "y_test = test_df['class']"
      ],
      "metadata": {
        "id": "Q5MwKe-vGI3G"
      },
      "execution_count": 44,
      "outputs": []
    },
    {
      "cell_type": "code",
      "source": [
        "from tensorflow.keras.models import Sequential\n",
        "from tensorflow.keras.layers import LSTM, Dense, Embedding, SpatialDropout1D, Bidirectional"
      ],
      "metadata": {
        "id": "9OmiamnJGNom"
      },
      "execution_count": 69,
      "outputs": []
    },
    {
      "cell_type": "code",
      "source": [
        "model = Sequential()\n",
        "model.add(Embedding(input_dim=max_words, output_dim=100))\n",
        "model.add(SpatialDropout1D(0.2))\n",
        "model.add((LSTM(64, dropout=0.3, recurrent_dropout=0.2)))\n",
        "model.add(Dense(4, activation='softmax'))"
      ],
      "metadata": {
        "id": "QKNVWjvnGouP"
      },
      "execution_count": 78,
      "outputs": []
    },
    {
      "cell_type": "code",
      "source": [
        "model.compile(loss='categorical_crossentropy', optimizer='adam', metrics=['accuracy'])"
      ],
      "metadata": {
        "id": "qjbSQ-GGGsZ2"
      },
      "execution_count": 79,
      "outputs": []
    },
    {
      "cell_type": "code",
      "source": [
        "from sklearn.model_selection import train_test_split\n",
        "from sklearn.preprocessing import LabelEncoder\n",
        "from keras.utils import to_categorical\n",
        "\n",
        "# Split your data into training and validation sets (80% train, 20% validation)\n",
        "X_train, X_val, y_train, y_val = train_test_split(train_df['tweets'], train_df['class'], test_size=0.2, random_state=42)\n",
        "\n",
        "# Convert string labels to integers using LabelEncoder\n",
        "label_encoder = LabelEncoder()\n",
        "\n",
        "# Fit and transform the labels for training set\n",
        "y_train = label_encoder.fit_transform(y_train)\n",
        "\n",
        "# Transform the validation labels using the fitted encoder\n",
        "y_val = label_encoder.transform(y_val)\n",
        "\n",
        "# One-hot encode the labels for multi-class classification\n",
        "y_train = to_categorical(y_train, num_classes=4)  # Adjust num_classes as per your dataset\n",
        "y_val = to_categorical(y_val, num_classes=4)\n",
        "\n",
        "# Tokenize the text data for input to the LSTM model (using the same tokenizer)\n",
        "tokenizer = Tokenizer(num_words=max_words, lower=True, split=' ')\n",
        "tokenizer.fit_on_texts(X_train)\n",
        "\n",
        "# Convert text to sequences\n",
        "X_train = tokenizer.texts_to_sequences(X_train)\n",
        "X_val = tokenizer.texts_to_sequences(X_val)\n",
        "\n",
        "# Pad sequences to ensure uniform input size\n",
        "X_train = pad_sequences(X_train, maxlen=max_sequence_length)\n",
        "X_val = pad_sequences(X_val, maxlen=max_sequence_length)"
      ],
      "metadata": {
        "colab": {
          "base_uri": "https://localhost:8080/"
        },
        "id": "45dcqLmGJ3sB",
        "outputId": "2a513e4c-7576-496e-c2aa-8c376aed9e87"
      },
      "execution_count": 80,
      "outputs": [
        {
          "output_type": "stream",
          "name": "stderr",
          "text": [
            "Exception ignored in: <function _xla_gc_callback at 0x79114be33d90>\n",
            "Traceback (most recent call last):\n",
            "  File \"/usr/local/lib/python3.10/dist-packages/jax/_src/lib/__init__.py\", line 96, in _xla_gc_callback\n",
            "    def _xla_gc_callback(*args):\n",
            "KeyboardInterrupt: \n"
          ]
        }
      ]
    },
    {
      "cell_type": "code",
      "source": [
        "\n",
        "history = model.fit(X_train, y_train, epochs=5, batch_size=64, validation_data=(X_val, y_val), verbose=1)"
      ],
      "metadata": {
        "colab": {
          "base_uri": "https://localhost:8080/"
        },
        "id": "J1_7cVljH4sd",
        "outputId": "21f8ddbb-5c09-420a-9316-d7545f83019a"
      },
      "execution_count": 81,
      "outputs": [
        {
          "output_type": "stream",
          "name": "stdout",
          "text": [
            "Epoch 1/5\n",
            "\u001b[1m1018/1018\u001b[0m \u001b[32m━━━━━━━━━━━━━━━━━━━━\u001b[0m\u001b[37m\u001b[0m \u001b[1m172s\u001b[0m 165ms/step - accuracy: 0.6774 - loss: 0.6892 - val_accuracy: 0.7428 - val_loss: 0.4982\n",
            "Epoch 2/5\n",
            "\u001b[1m1018/1018\u001b[0m \u001b[32m━━━━━━━━━━━━━━━━━━━━\u001b[0m\u001b[37m\u001b[0m \u001b[1m199s\u001b[0m 163ms/step - accuracy: 0.7387 - loss: 0.4989 - val_accuracy: 0.7428 - val_loss: 0.4997\n",
            "Epoch 3/5\n",
            "\u001b[1m1018/1018\u001b[0m \u001b[32m━━━━━━━━━━━━━━━━━━━━\u001b[0m\u001b[37m\u001b[0m \u001b[1m160s\u001b[0m 158ms/step - accuracy: 0.7382 - loss: 0.4955 - val_accuracy: 0.7423 - val_loss: 0.5023\n",
            "Epoch 4/5\n",
            "\u001b[1m1018/1018\u001b[0m \u001b[32m━━━━━━━━━━━━━━━━━━━━\u001b[0m\u001b[37m\u001b[0m \u001b[1m177s\u001b[0m 173ms/step - accuracy: 0.7421 - loss: 0.4876 - val_accuracy: 0.7347 - val_loss: 0.5077\n",
            "Epoch 5/5\n",
            "\u001b[1m1018/1018\u001b[0m \u001b[32m━━━━━━━━━━━━━━━━━━━━\u001b[0m\u001b[37m\u001b[0m \u001b[1m172s\u001b[0m 169ms/step - accuracy: 0.7428 - loss: 0.4827 - val_accuracy: 0.7265 - val_loss: 0.5203\n"
          ]
        }
      ]
    },
    {
      "cell_type": "code",
      "source": [],
      "metadata": {
        "colab": {
          "base_uri": "https://localhost:8080/"
        },
        "id": "ncXGFNqZPdTY",
        "outputId": "cba2eb46-e518-42f7-e756-4a9aac54ada3"
      },
      "execution_count": 72,
      "outputs": [
        {
          "output_type": "stream",
          "name": "stdout",
          "text": [
            "Epoch 1/5\n",
            "\u001b[1m1018/1018\u001b[0m \u001b[32m━━━━━━━━━━━━━━━━━━━━\u001b[0m\u001b[37m\u001b[0m \u001b[1m398s\u001b[0m 384ms/step - accuracy: 0.6817 - loss: 0.6718 - val_accuracy: 0.7426 - val_loss: 0.5012\n",
            "Epoch 2/5\n",
            "\u001b[1m1018/1018\u001b[0m \u001b[32m━━━━━━━━━━━━━━━━━━━━\u001b[0m\u001b[37m\u001b[0m \u001b[1m446s\u001b[0m 388ms/step - accuracy: 0.7355 - loss: 0.5019 - val_accuracy: 0.7424 - val_loss: 0.5013\n",
            "Epoch 3/5\n",
            "\u001b[1m1018/1018\u001b[0m \u001b[32m━━━━━━━━━━━━━━━━━━━━\u001b[0m\u001b[37m\u001b[0m \u001b[1m419s\u001b[0m 411ms/step - accuracy: 0.7360 - loss: 0.4969 - val_accuracy: 0.7411 - val_loss: 0.5041\n",
            "Epoch 4/5\n",
            "\u001b[1m1018/1018\u001b[0m \u001b[32m━━━━━━━━━━━━━━━━━━━━\u001b[0m\u001b[37m\u001b[0m \u001b[1m457s\u001b[0m 426ms/step - accuracy: 0.7408 - loss: 0.4906 - val_accuracy: 0.7344 - val_loss: 0.5121\n",
            "Epoch 5/5\n",
            "\u001b[1m1018/1018\u001b[0m \u001b[32m━━━━━━━━━━━━━━━━━━━━\u001b[0m\u001b[37m\u001b[0m \u001b[1m435s\u001b[0m 420ms/step - accuracy: 0.7417 - loss: 0.4852 - val_accuracy: 0.7346 - val_loss: 0.5196\n"
          ]
        }
      ]
    }
  ]
}